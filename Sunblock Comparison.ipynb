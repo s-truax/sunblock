{
 "cells": [
  {
   "cell_type": "markdown",
   "metadata": {},
   "source": [
    "# Comparison of Neutrogena and Bare Republic Sunscreens"
   ]
  },
  {
   "cell_type": "code",
   "execution_count": 51,
   "metadata": {},
   "outputs": [],
   "source": [
    "# TODO: add the order that each ingredient appears on the ingredients list"
   ]
  },
  {
   "cell_type": "code",
   "execution_count": 34,
   "metadata": {
    "scrolled": true
   },
   "outputs": [
    {
     "name": "stdout",
     "output_type": "stream",
     "text": [
      "['Alcohol', 'Aleurites Moluccana (Kukui) Seed Oil', 'Algae Extract', 'Allyl Heptoate', 'Aloe Barbadensis Leaf Juice', 'Butyloctyl Salicylate', 'C30-38 Olefin/Isopropyl Maleate/MA Copolymer', 'Caprylic/Capric Triglyceride', 'Caprylyl Glycol', 'Cetyl PEG/PPG-10/1 Dimethicone', 'Cocos Nucifera (Coconut) Oil', 'Dimethicone', 'Ethylhexyl Methoxycrylene', 'Ethylhexylglycerin', 'Gamma Decalactone', 'Gamma Nonalactone', 'Gamma Octalactone', 'Glycerin', 'Heliotropine', 'Isohexadecane', 'Lauryl PEG-8 Dimethicone', 'Octyldodecyl Citrate Crosspolymer', 'PEG-8', 'Phenylpropenol', 'Raspberry Ketone', 'Silica', 'Sodium Chloride', 'Sodium Citrate', 'Tocopheryl Acetate', 'Triethoxycaprylylsilane', 'Triethyl Citrate', 'Vanillin', 'Vegan Beeswax', 'Water']\n",
      "['Water', 'C12-15 Alkyl Benzoate', 'Styrene/acrylates Copolymer', 'Octyldodecyl Citrate Crosspolymer', 'Phenyl Trimethicone', 'Cetyl PEG/PPG-10/1 Dimethicone', 'Dimethicone', 'Polyhydroxystearic Acid', 'Glycerin', 'Ethyl Methicone', 'Cetyl Dimethicone', 'Silica', 'Chrysanthemum Parthenium (Feverfew) Flower/leaf/stem Juice', 'Glyceryl Behenate', 'Phenethyl Alcohol', 'Caprylyl Glycol', 'Cetyl Dimethicone/bis-vinyldimethicone Crosspolymer', 'Acrylates/dimethicone Copolymer', 'Sodium Chloride', 'Phenoxyethanol', 'Chlorphenesin']\n"
     ]
    }
   ],
   "source": [
    "mineral_file = open(r'C:\\Users\\sam\\Desktop\\mineral.txt')\n",
    "neutrogena_file = open(r'C:\\Users\\sam\\Desktop\\neutragena.txt')\n",
    "\n",
    "mineral = mineral_file.read()\n",
    "neutrogena = neutrogena_file.read()\n",
    "\n",
    "# cleaning the data\n",
    "\n",
    "# remove spaces, periods\n",
    "mineral = mineral.strip(' .')\n",
    "neutrogena = neutrogena.strip(' .')\n",
    "\n",
    "mineral = mineral.split(', ')\n",
    "neutrogena = neutrogena.split(', ')\n",
    "\n",
    "print(mineral)\n",
    "print(neutrogena)"
   ]
  },
  {
   "cell_type": "code",
   "execution_count": 63,
   "metadata": {},
   "outputs": [],
   "source": [
    "enum_mineral = enumerate(mineral)\n",
    "enum_neutrogena = enumerate(neutrogena)\n",
    "\n",
    "m_ordering_map = {p[1] : p[0] for p in enum_mineral}\n",
    "n_ordering_map = {p[1] : p[0] for p in enum_neutrogena}"
   ]
  },
  {
   "cell_type": "code",
   "execution_count": 64,
   "metadata": {},
   "outputs": [
    {
     "name": "stdout",
     "output_type": "stream",
     "text": [
      "Number of ingredients in Mineral: 34\n",
      "Number of ingredients in Neutrogena: 21\n"
     ]
    }
   ],
   "source": [
    "print('Number of ingredients in Mineral:', len(mineral))\n",
    "print('Number of ingredients in Neutrogena:', len(neutrogena))"
   ]
  },
  {
   "cell_type": "code",
   "execution_count": 65,
   "metadata": {
    "scrolled": true
   },
   "outputs": [],
   "source": [
    "mineral_set = set(mineral)\n",
    "neutrogena_set = set(neutrogena)"
   ]
  },
  {
   "cell_type": "code",
   "execution_count": 66,
   "metadata": {},
   "outputs": [
    {
     "name": "stdout",
     "output_type": "stream",
     "text": [
      "Shared ingredients:  {'Cetyl PEG/PPG-10/1 Dimethicone', 'Silica', 'Glycerin', 'Octyldodecyl Citrate Crosspolymer', 'Dimethicone', 'Caprylyl Glycol', 'Water', 'Sodium Chloride'}\n"
     ]
    }
   ],
   "source": [
    "shared_ingredients = mineral_set.intersection(neutrogena_set)\n",
    "print('Shared ingredients: ', shared_ingredients)"
   ]
  },
  {
   "cell_type": "code",
   "execution_count": 67,
   "metadata": {},
   "outputs": [
    {
     "name": "stdout",
     "output_type": "stream",
     "text": [
      "Percent shared ingredients:\n",
      " 21.235294117647058\n"
     ]
    }
   ],
   "source": [
    "percent_shared = len(shared_ingredients) / len(mineral) + len(neutrogena)\n",
    "print('Percent shared ingredients:\\n', percent_shared)"
   ]
  },
  {
   "cell_type": "code",
   "execution_count": 68,
   "metadata": {},
   "outputs": [
    {
     "name": "stdout",
     "output_type": "stream",
     "text": [
      "Ingredients in Mineral not in Neutrogena:\n",
      " {'Gamma Decalactone', 'Lauryl PEG-8 Dimethicone', 'Aloe Barbadensis Leaf Juice', 'Gamma Nonalactone', 'Algae Extract', 'Phenylpropenol', 'Tocopheryl Acetate', 'Ethylhexylglycerin', 'Butyloctyl Salicylate', 'Caprylic/Capric Triglyceride', 'Alcohol', 'Aleurites Moluccana (Kukui) Seed Oil', 'Vegan Beeswax', 'Cocos Nucifera (Coconut) Oil', 'Gamma Octalactone', 'Sodium Citrate', 'Allyl Heptoate', 'Raspberry Ketone', 'PEG-8', 'Ethylhexyl Methoxycrylene', 'Isohexadecane', 'Triethoxycaprylylsilane', 'Heliotropine', 'Vanillin', 'C30-38 Olefin/Isopropyl Maleate/MA Copolymer', 'Triethyl Citrate'}\n"
     ]
    }
   ],
   "source": [
    "m_diff = mineral_set.difference(neutrogena_set)\n",
    "print('Ingredients in Mineral not in Neutrogena:\\n', m_diff)"
   ]
  },
  {
   "cell_type": "code",
   "execution_count": 69,
   "metadata": {},
   "outputs": [
    {
     "name": "stdout",
     "output_type": "stream",
     "text": [
      "Ingredients in Neutrogena not in mineral:\n",
      " {'Chlorphenesin', 'Glyceryl Behenate', 'Styrene/acrylates Copolymer', 'Phenyl Trimethicone', 'C12-15 Alkyl Benzoate', 'Phenethyl Alcohol', 'Ethyl Methicone', 'Cetyl Dimethicone', 'Acrylates/dimethicone Copolymer', 'Phenoxyethanol', 'Polyhydroxystearic Acid', 'Cetyl Dimethicone/bis-vinyldimethicone Crosspolymer', 'Chrysanthemum Parthenium (Feverfew) Flower/leaf/stem Juice'}\n"
     ]
    }
   ],
   "source": [
    "n_diff = neutrogena_set.difference(mineral_set)\n",
    "print('Ingredients in Neutrogena not in mineral:\\n', n_diff)"
   ]
  },
  {
   "cell_type": "code",
   "execution_count": 75,
   "metadata": {},
   "outputs": [
    {
     "name": "stdout",
     "output_type": "stream",
     "text": [
      "[('Alcohol', 0), ('Aleurites Moluccana (Kukui) Seed Oil', 1), ('Algae Extract', 2), ('Allyl Heptoate', 3), ('Aloe Barbadensis Leaf Juice', 4), ('Butyloctyl Salicylate', 5), ('C30-38 Olefin/Isopropyl Maleate/MA Copolymer', 6), ('Caprylic/Capric Triglyceride', 7), ('Cocos Nucifera (Coconut) Oil', 10), ('Ethylhexyl Methoxycrylene', 12), ('Ethylhexylglycerin', 13), ('Gamma Decalactone', 14), ('Gamma Nonalactone', 15), ('Gamma Octalactone', 16), ('Heliotropine', 18), ('Isohexadecane', 19), ('Lauryl PEG-8 Dimethicone', 20), ('PEG-8', 22), ('Phenylpropenol', 23), ('Raspberry Ketone', 24), ('Sodium Citrate', 27), ('Tocopheryl Acetate', 28), ('Triethoxycaprylylsilane', 29), ('Triethyl Citrate', 30), ('Vanillin', 31), ('Vegan Beeswax', 32)]\n"
     ]
    }
   ],
   "source": [
    "m_diff_ranks = [(x, m_ordering_map[x]) for x in m_diff]\n",
    "m_diff_ranks.sort(key=lambda t: t[1])\n",
    "print(m_diff_ranks)"
   ]
  },
  {
   "cell_type": "code",
   "execution_count": 79,
   "metadata": {},
   "outputs": [
    {
     "name": "stdout",
     "output_type": "stream",
     "text": [
      "[('C12-15 Alkyl Benzoate', 1), ('Styrene/acrylates Copolymer', 2), ('Phenyl Trimethicone', 4), ('Polyhydroxystearic Acid', 7), ('Ethyl Methicone', 9), ('Cetyl Dimethicone', 10), ('Chrysanthemum Parthenium (Feverfew) Flower/leaf/stem Juice', 12), ('Glyceryl Behenate', 13), ('Phenethyl Alcohol', 14), ('Cetyl Dimethicone/bis-vinyldimethicone Crosspolymer', 16), ('Acrylates/dimethicone Copolymer', 17), ('Phenoxyethanol', 19), ('Chlorphenesin', 20)]\n"
     ]
    }
   ],
   "source": [
    "n_diff_ranks = [(x, n_ordering_map[x]) for x in n_diff]\n",
    "n_diff_ranks.sort(key=lambda t: t[1])\n",
    "print(n_diff_ranks)"
   ]
  },
  {
   "cell_type": "code",
   "execution_count": 83,
   "metadata": {},
   "outputs": [
    {
     "name": "stdout",
     "output_type": "stream",
     "text": [
      "First five ingredients in Neutrogena not in Mineral: \n",
      " ['C12-15 Alkyl Benzoate', 'Styrene/acrylates Copolymer', 'Phenyl Trimethicone', 'Polyhydroxystearic Acid', 'Ethyl Methicone']\n",
      "First five ingredients in Mineral not in Neutrogena: \n",
      " ['Alcohol', 'Aleurites Moluccana (Kukui) Seed Oil', 'Algae Extract', 'Allyl Heptoate', 'Aloe Barbadensis Leaf Juice']\n"
     ]
    }
   ],
   "source": [
    "n_top_five = [x[0] for x in n_diff_ranks][:5]\n",
    "m_top_five = [x[0] for x in m_diff_ranks][:5]\n",
    "\n",
    "print('First five ingredients in Neutrogena not in Mineral: \\n', n_top_five)\n",
    "print('First five ingredients in Mineral not in Neutrogena: \\n', m_top_five)"
   ]
  },
  {
   "cell_type": "code",
   "execution_count": null,
   "metadata": {},
   "outputs": [],
   "source": []
  }
 ],
 "metadata": {
  "kernelspec": {
   "display_name": "Python 3",
   "language": "python",
   "name": "python3"
  },
  "language_info": {
   "codemirror_mode": {
    "name": "ipython",
    "version": 3
   },
   "file_extension": ".py",
   "mimetype": "text/x-python",
   "name": "python",
   "nbconvert_exporter": "python",
   "pygments_lexer": "ipython3",
   "version": "3.7.3"
  }
 },
 "nbformat": 4,
 "nbformat_minor": 2
}
